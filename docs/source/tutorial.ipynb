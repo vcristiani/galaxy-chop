{
 "cells": [
  {
   "cell_type": "markdown",
   "metadata": {},
   "source": [
    "# GalaxyChop's Tutorial"
   ]
  },
  {
   "cell_type": "markdown",
   "metadata": {},
   "source": [
    "This tutorial is intended to serve as a guide for using GalaxyChop to make the dinamical descomposition of a galaxi with tree diferent methods."
   ]
  },
  {
   "cell_type": "markdown",
   "metadata": {},
   "source": [
    "In this tutorial we will show you step by step how to get started with the GalaxyChop package.\n",
    "\n",
    "---------------------------------------------------------------------------------------------"
   ]
  },
  {
   "cell_type": "markdown",
   "metadata": {},
   "source": [
    "## **Import GalaxyChop and other necesary packages**"
   ]
  },
  {
   "cell_type": "code",
   "execution_count": 1,
   "metadata": {},
   "outputs": [],
   "source": [
    "import numpy as np\n",
    "import astropy.units as u\n",
    "import galaxychop as gc"
   ]
  },
  {
   "cell_type": "markdown",
   "metadata": {},
   "source": [
    "The first thing to do is to import the necessary packages:\n",
    "\n",
    "* **numpy**: is the library that we use to load the data.\n",
    "* **astropy.units**: is the library that we will use to introduce the units to our data.\n",
    "* **galaxychop**: is the library that we present in this tutorial."
   ]
  },
  {
   "cell_type": "markdown",
   "metadata": {},
   "source": [
    "## **Loading the data**"
   ]
  },
  {
   "cell_type": "markdown",
   "metadata": {},
   "source": [
    "For this tutorial we will use a preloaded data set offered by GalaxyChop"
   ]
  },
  {
   "cell_type": "code",
   "execution_count": 2,
   "metadata": {},
   "outputs": [],
   "source": [
    "stars = gc.load_star()\n",
    "dark = gc.load_dark()\n",
    "gas = gc.load_gas()"
   ]
  },
  {
   "cell_type": "markdown",
   "metadata": {},
   "source": [
    "The first step is to load the position (x, y, z), velocity (vx, vy, vz), and mass (m) data of the galaxy, of its stellar components, dark matter, and gas, in that order.\n",
    "\n",
    "The data **must be entered with units**. The positions in **Kpc**, the speeds in **km/s** and the masses in **Msol**."
   ]
  },
  {
   "cell_type": "code",
   "execution_count": 3,
   "metadata": {},
   "outputs": [],
   "source": [
    "gal0 = gc.Galaxy(\n",
    "    stars[:,1]*u.kpc, stars[:,2]*u.kpc, stars[:,3]*u.kpc, stars[:,4]*u.km / u.s, stars[:,5]*u.km / u.s, stars[:,6]*u.km / u.s, stars[:,0]*1e10*u.M_sun, \n",
    "    dark[:,1]*u.kpc, dark[:,2]*u.kpc, dark[:,3]*u.kpc, dark[:,4]*u.km / u.s, dark[:,5]*u.km / u.s, dark[:,6]*u.km / u.s, dark[:,0]*1e10*u.M_sun, \n",
    "    gas[:,1]*u.kpc, gas[:,2]*u.kpc, gas[:,3]*u.kpc, gas[:,4]*u.km / u.s, gas[:,5]*u.km / u.s, gas[:,6]*u.km / u.s, gas[:,0]*1e10*u.M_sun\n",
    ")"
   ]
  },
  {
   "cell_type": "markdown",
   "metadata": {},
   "source": [
    "## **Creating the galaxy**"
   ]
  },
  {
   "cell_type": "markdown",
   "metadata": {},
   "source": [
    "**gal0** is now an instantiated object with the Galaxy class.\n",
    "\n",
    "There are a number of properties of the galaxy that we can calculate if necessary\n",
    "\n",
    "* **Specific energy**\n",
    "* **Specific angular momentum**\n",
    "* Pairs of points (x,y) used for interpolation of the **Circular Angular Moment** function\n",
    "* **Circularity parameter**: in the z axis and in the plane."
   ]
  },
  {
   "cell_type": "markdown",
   "metadata": {},
   "source": [
    "**Note**\n",
    "\n",
    "In case it is not necessary to work or analyze any of the parameters mentioned above we can directly perform the dynamic decomposition. To do this, proceed to the title **Dynamic decomposition methods**."
   ]
  },
  {
   "cell_type": "markdown",
   "metadata": {},
   "source": [
    "#### **Specific energy**"
   ]
  },
  {
   "cell_type": "code",
   "execution_count": null,
   "metadata": {},
   "outputs": [],
   "source": [
    "E_star, E_dark_mater, E_gas = gal0.energy"
   ]
  },
  {
   "cell_type": "markdown",
   "metadata": {},
   "source": [
    "This returns the total specific energy of the components of stars, dark matter and gas."
   ]
  },
  {
   "cell_type": "markdown",
   "metadata": {},
   "source": [
    "#### **Specific angular momentum**"
   ]
  },
  {
   "cell_type": "code",
   "execution_count": null,
   "metadata": {},
   "outputs": [],
   "source": [
    "gal1 = gal0.angular_momentum()"
   ]
  },
  {
   "cell_type": "markdown",
   "metadata": {},
   "source": [
    "This returns a new galaxy with the parameters:\n",
    "\n",
    "* **J_part**: Angular momentum for gas, dark matter and stars.\n",
    "* **Jr_star**: Module of the angular momentum for stars.\n",
    "* **Jr**: Module of the angular momentum for gas.\n",
    "* **J_star**: Angular momentum for stars."
   ]
  },
  {
   "cell_type": "markdown",
   "metadata": {},
   "source": [
    "#### **Circular angular momentum**"
   ]
  },
  {
   "cell_type": "code",
   "execution_count": null,
   "metadata": {},
   "outputs": [],
   "source": [
    "gal2 = gal0.jcirc()"
   ]
  },
  {
   "cell_type": "markdown",
   "metadata": {},
   "source": [
    "This returns a new galaxy with the parameters:\n",
    "\n",
    "* **x**: Stellar normalized energy.\n",
    "* **y**: z component of the normalized angular momentum.\n",
    "\n",
    "For more information you can access the documentation of the jcirc method in the Notes section"
   ]
  },
  {
   "cell_type": "markdown",
   "metadata": {},
   "source": [
    "#### **Circularity parameters**"
   ]
  },
  {
   "cell_type": "code",
   "execution_count": null,
   "metadata": {},
   "outputs": [],
   "source": [
    "E_star, eps, eps_r = gal0.paramcirc"
   ]
  },
  {
   "cell_type": "markdown",
   "metadata": {},
   "source": [
    "This returns **specific energy**, **circularity parameter in z** and **circularity parameter in plane**."
   ]
  },
  {
   "cell_type": "markdown",
   "metadata": {},
   "source": [
    "## **Dynamic decomposition methods**"
   ]
  },
  {
   "cell_type": "markdown",
   "metadata": {},
   "source": [
    "In GalaxyChop we have 3 methods of dynamic decomposition of the stellar component of galaxies.\n",
    "\n",
    "* **GCKmeans**\n",
    "* **GCAbadi**"
   ]
  },
  {
   "cell_type": "markdown",
   "metadata": {},
   "source": [
    "#### **GCKmeans**"
   ]
  },
  {
   "cell_type": "markdown",
   "metadata": {},
   "source": [
    "This method is a reimplementation of Skitlearn's Kmeans\n",
    "\n",
    "The first thing we do is to instantiate an object with the class **GCKmeans** by translating the amount of components that we want to obtain from the decomposition."
   ]
  },
  {
   "cell_type": "code",
   "execution_count": 15,
   "metadata": {},
   "outputs": [],
   "source": [
    "gckmeans = gc.GCKmeans(n_clusters=3)"
   ]
  },
  {
   "cell_type": "markdown",
   "metadata": {},
   "source": [
    "The next thing we do is to decompose the previously instantiated galaxy."
   ]
  },
  {
   "cell_type": "code",
   "execution_count": null,
   "metadata": {},
   "outputs": [],
   "source": [
    "gckmeans.decompose(gal0)"
   ]
  },
  {
   "cell_type": "markdown",
   "metadata": {},
   "source": [
    "The previous method certifies that what we introduce is an instantiated galaxy with the class **Galaxy**, and performs the decomposition.\n",
    "\n",
    "The next thing we have to do is:"
   ]
  },
  {
   "cell_type": "code",
   "execution_count": null,
   "metadata": {},
   "outputs": [],
   "source": [
    "gckmeans.labels"
   ]
  },
  {
   "cell_type": "markdown",
   "metadata": {},
   "source": [
    "In this way we obtain the different groups to which each particle in the galaxy belongs."
   ]
  },
  {
   "cell_type": "markdown",
   "metadata": {},
   "source": [
    "#### **Abadie**"
   ]
  },
  {
   "cell_type": "markdown",
   "metadata": {},
   "source": [
    "This method is an implementation of the dynamic decomposition method of Abadi(2003).\n",
    "\n",
    "The first thing we do is to instantiate an object with the class **GCAbadi**."
   ]
  },
  {
   "cell_type": "code",
   "execution_count": null,
   "metadata": {},
   "outputs": [],
   "source": [
    "gcabadi = gc.GCAbadie()"
   ]
  },
  {
   "cell_type": "markdown",
   "metadata": {},
   "source": [
    "The next thing we do is to decompose the previously instantiated galaxy"
   ]
  },
  {
   "cell_type": "code",
   "execution_count": null,
   "metadata": {},
   "outputs": [],
   "source": [
    "gcabadi.decompose(gal0)"
   ]
  },
  {
   "cell_type": "markdown",
   "metadata": {},
   "source": [
    "The previous method certifies that what we introduce is an instantiated galaxy with the class **Galaxy**, and performs the decomposition.\n",
    "\n",
    "The next thing we have to do is:"
   ]
  },
  {
   "cell_type": "code",
   "execution_count": null,
   "metadata": {},
   "outputs": [],
   "source": [
    "gckmeans.labels"
   ]
  },
  {
   "cell_type": "markdown",
   "metadata": {},
   "source": [
    "In this way we obtain the different groups to which each particle in the galaxy belongs."
   ]
  }
 ],
 "metadata": {
  "kernelspec": {
   "display_name": "Python [default]",
   "language": "python",
   "name": "python3"
  },
  "language_info": {
   "codemirror_mode": {
    "name": "ipython",
    "version": 3
   },
   "file_extension": ".py",
   "mimetype": "text/x-python",
   "name": "python",
   "nbconvert_exporter": "python",
   "pygments_lexer": "ipython3",
   "version": "3.6.8"
  }
 },
 "nbformat": 4,
 "nbformat_minor": 2
}
